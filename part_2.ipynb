{
 "cells": [
  {
   "cell_type": "code",
   "execution_count": 1,
   "source": [
    "# Gerekli kütüphanelerin eklenmesi\n",
    "import pandas as pd\n",
    "import numpy as np\n",
    "import matplotlib.pyplot as plt\n",
    "import seaborn as sns\n",
    "import string\n",
    "import re\n",
    "from sklearn.feature_extraction.text import CountVectorizer, TfidfVectorizer\n",
    "from sklearn.model_selection import train_test_split\n",
    "from sklearn.naive_bayes import MultinomialNB\n",
    "from sklearn.ensemble import RandomForestClassifier\n",
    "from xgboost import XGBClassifier\n",
    "import lightgbm as lgb\n",
    "from sklearn.metrics import confusion_matrix, classification_report, accuracy_score\n",
    "from sklearn.preprocessing import LabelEncoder\n",
    "from sklearn.utils import resample\n",
    "from imblearn.over_sampling import SMOTE\n",
    "from nltk.tokenize import word_tokenize\n",
    "from nltk.tokenize import sent_tokenize\n",
    "from nltk.stem import WordNetLemmatizer\n",
    "from keras.models import Sequential\n",
    "from keras.layers import Embedding, Conv1D, LSTM, GRU, Dense"
   ],
   "outputs": [
    {
     "output_type": "stream",
     "name": "stdout",
     "text": [
      "WARNING:tensorflow:From c:\\Users\\cihat\\Downloads\\Extracting Medical Information From Clinical Text With NLP\\venv\\Lib\\site-packages\\keras\\src\\losses.py:2976: The name tf.losses.sparse_softmax_cross_entropy is deprecated. Please use tf.compat.v1.losses.sparse_softmax_cross_entropy instead.\n",
      "\n"
     ]
    }
   ],
   "metadata": {}
  },
  {
   "cell_type": "code",
   "execution_count": 2,
   "source": [
    "# Veri setinin yüklenmesi\n",
    "data = pd.read_csv('mtsamples.csv')"
   ],
   "outputs": [],
   "metadata": {}
  },
  {
   "cell_type": "code",
   "execution_count": 3,
   "source": [
    "# Fonksiyon: Cümle ve kelime sayısını hesapla\n",
    "def get_sentence_word_count(text_list):\n",
    "    sent_count = 0\n",
    "    word_count = 0\n",
    "    vocab = {}\n",
    "    \n",
    "    for text in text_list:\n",
    "        sentences = sent_tokenize(str(text).lower())\n",
    "        sent_count += len(sentences)\n",
    "        \n",
    "        for sentence in sentences:\n",
    "            words = word_tokenize(sentence)\n",
    "            \n",
    "            for word in words:\n",
    "                if word in vocab:\n",
    "                    vocab[word] += 1\n",
    "                else:\n",
    "                    vocab[word] = 1\n",
    "    \n",
    "    word_count = len(vocab.keys())\n",
    "    return sent_count, word_count"
   ],
   "outputs": [],
   "metadata": {}
  },
  {
   "cell_type": "code",
   "execution_count": 4,
   "source": [
    "# Veri kümesini yükle\n",
    "clinical_text_df = pd.read_csv(\"mtsamples.csv\")\n",
    "\n",
    "# NaN transkripsiyonları temizle\n",
    "clinical_text_df = clinical_text_df[clinical_text_df['transcription'].notna()]\n",
    "\n",
    "# Kategori sayısı 50'nin altında olan transkripsiyonları temizle\n",
    "filtered_data_categories = clinical_text_df.groupby('medical_specialty').filter(lambda x: x.shape[0] > 50)"
   ],
   "outputs": [],
   "metadata": {}
  },
  {
   "cell_type": "code",
   "execution_count": 5,
   "source": [
    "# Veri ön işleme ve temizleme\n",
    "def clean_text(text):\n",
    "    text = text.translate(str.maketrans('', '', string.punctuation))\n",
    "    text = ''.join([w for w in text if not w.isdigit()])\n",
    "    REPLACE_BY_SPACE_RE = re.compile('[/(){}\\[\\]\\|@,;]')\n",
    "    text = text.lower()\n",
    "    text = REPLACE_BY_SPACE_RE.sub('', text)\n",
    "    return text\n",
    "\n",
    "def lemmatize_text(text):\n",
    "    wordlist = []\n",
    "    lemmatizer = WordNetLemmatizer()\n",
    "    sentences = sent_tokenize(text)\n",
    "\n",
    "    intial_sentences = sentences[:1]\n",
    "    final_sentences = sentences[-2:-1]\n",
    "\n",
    "    for sentence in intial_sentences:\n",
    "        words = word_tokenize(sentence)\n",
    "        wordlist.extend(lemmatizer.lemmatize(word) for word in words)\n",
    "\n",
    "    for sentence in final_sentences:\n",
    "        words = word_tokenize(sentence)\n",
    "        wordlist.extend(lemmatizer.lemmatize(word) for word in words)\n",
    "\n",
    "    return ' '.join(wordlist)\n",
    "\n",
    "filtered_data_categories['transcription'] = filtered_data_categories['transcription'].apply(lemmatize_text)\n",
    "filtered_data_categories['transcription'] = filtered_data_categories['transcription'].apply(clean_text)"
   ],
   "outputs": [],
   "metadata": {}
  },
  {
   "cell_type": "code",
   "execution_count": 6,
   "source": [
    "# Veri kümesini eğitim ve test setlerine ayırma\n",
    "X = filtered_data_categories['transcription']\n",
    "y = filtered_data_categories['medical_specialty']\n",
    "\n",
    "X_train, X_test, y_train, y_test = train_test_split(X, y, test_size=0.2, random_state=42, stratify=y)"
   ],
   "outputs": [],
   "metadata": {}
  },
  {
   "cell_type": "code",
   "execution_count": 7,
   "source": [
    "# TF-IDF vektörleştirme\n",
    "vectorizer_tfidf = TfidfVectorizer(sublinear_tf=True, encoding='utf-8', decode_error='ignore')\n",
    "X_train_tfidf = vectorizer_tfidf.fit_transform(X_train)\n",
    "X_test_tfidf = vectorizer_tfidf.transform(X_test)"
   ],
   "outputs": [],
   "metadata": {}
  },
  {
   "cell_type": "code",
   "execution_count": 8,
   "source": [
    "# SMOTE ile dengesiz sınıfları dengeleme\n",
    "smote = SMOTE(random_state=42)\n",
    "X_train_smote_tfidf, y_train_smote_tfidf = smote.fit_resample(X_train_tfidf, y_train)"
   ],
   "outputs": [],
   "metadata": {}
  },
  {
   "cell_type": "code",
   "execution_count": 9,
   "source": [
    "# Naive Bayes\n",
    "nb_classifier = MultinomialNB()\n",
    "nb_classifier.fit(X_train_smote_tfidf, y_train_smote_tfidf)\n",
    "y_pred_nb_tfidf = nb_classifier.predict(X_test_tfidf)"
   ],
   "outputs": [],
   "metadata": {}
  },
  {
   "cell_type": "code",
   "execution_count": 10,
   "source": [
    "# Random Forest\n",
    "rf_classifier = RandomForestClassifier(random_state=1)\n",
    "rf_classifier.fit(X_train_smote_tfidf, y_train_smote_tfidf)\n",
    "y_pred_rf_tfidf = rf_classifier.predict(X_test_tfidf)"
   ],
   "outputs": [],
   "metadata": {}
  },
  {
   "cell_type": "code",
   "execution_count": 11,
   "source": [
    "# XGBoost\n",
    "xgb_classifier = XGBClassifier(random_state=1)\n",
    "# Encode labels using LabelEncoder\n",
    "le = LabelEncoder()\n",
    "y_train_encoded = le.fit_transform(y_train_smote_tfidf)\n",
    "xgb_classifier.fit(X_train_smote_tfidf, y_train_encoded)\n",
    "# Ensure that classes match\n",
    "print(\"Expected Classes:\", xgb_classifier.classes_)\n",
    "y_pred_xgb_tfidf = xgb_classifier.predict(X_test_tfidf)"
   ],
   "outputs": [
    {
     "output_type": "stream",
     "name": "stdout",
     "text": [
      "Expected Classes: [ 0  1  2  3  4  5  6  7  8  9 10 11 12 13 14 15 16 17 18 19 20]\n"
     ]
    }
   ],
   "metadata": {}
  },
  {
   "cell_type": "code",
   "execution_count": 12,
   "source": [
    "# LightGBM\n",
    "lgb_classifier = lgb.LGBMClassifier(random_state=1)\n",
    "lgb_classifier.fit(X_train_smote_tfidf, y_train_smote_tfidf)\n",
    "y_pred_lgb_tfidf = lgb_classifier.predict(X_test_tfidf)"
   ],
   "outputs": [
    {
     "output_type": "stream",
     "name": "stdout",
     "text": [
      "[LightGBM] [Info] Auto-choosing row-wise multi-threading, the overhead of testing was 0.153001 seconds.\n",
      "You can set `force_row_wise=true` to remove the overhead.\n",
      "And if memory is not enough, you can set `force_col_wise=true`.\n",
      "[LightGBM] [Info] Total Bins 194540\n",
      "[LightGBM] [Info] Number of data points in the train set: 18270, number of used features: 4200\n",
      "[LightGBM] [Info] Start training from score -3.044522\n",
      "[LightGBM] [Info] Start training from score -3.044522\n",
      "[LightGBM] [Info] Start training from score -3.044522\n",
      "[LightGBM] [Info] Start training from score -3.044522\n",
      "[LightGBM] [Info] Start training from score -3.044522\n",
      "[LightGBM] [Info] Start training from score -3.044522\n",
      "[LightGBM] [Info] Start training from score -3.044522\n",
      "[LightGBM] [Info] Start training from score -3.044522\n",
      "[LightGBM] [Info] Start training from score -3.044522\n",
      "[LightGBM] [Info] Start training from score -3.044522\n",
      "[LightGBM] [Info] Start training from score -3.044522\n",
      "[LightGBM] [Info] Start training from score -3.044522\n",
      "[LightGBM] [Info] Start training from score -3.044522\n",
      "[LightGBM] [Info] Start training from score -3.044522\n",
      "[LightGBM] [Info] Start training from score -3.044522\n",
      "[LightGBM] [Info] Start training from score -3.044522\n",
      "[LightGBM] [Info] Start training from score -3.044522\n",
      "[LightGBM] [Info] Start training from score -3.044522\n",
      "[LightGBM] [Info] Start training from score -3.044522\n",
      "[LightGBM] [Info] Start training from score -3.044522\n",
      "[LightGBM] [Info] Start training from score -3.044522\n"
     ]
    }
   ],
   "metadata": {}
  },
  {
   "cell_type": "code",
   "execution_count": 13,
   "source": [
    "# Çıktıları CSV dosyalarına kaydetme\n",
    "pd.DataFrame(y_pred_nb_tfidf).to_csv('y_pred_nb_tfidf.csv', index=False)\n",
    "pd.DataFrame(y_pred_rf_tfidf).to_csv('y_pred_rf_tfidf.csv', index=False)\n",
    "pd.DataFrame(y_pred_xgb_tfidf).to_csv('y_pred_xgb_tfidf.csv', index=False)\n",
    "pd.DataFrame(y_pred_lgb_tfidf).to_csv('y_pred_lgb_tfidf.csv', index=False)"
   ],
   "outputs": [],
   "metadata": {}
  },
  {
   "cell_type": "code",
   "execution_count": 14,
   "source": [
    "# NER Kullanımı\n",
    "# Gerekli kütüphanelerin eklenmesi\n",
    "import spacy\n",
    "import en_ner_bc5cdr_md as ner_model\n",
    "import pandas as pd"
   ],
   "outputs": [],
   "metadata": {}
  },
  {
   "cell_type": "code",
   "execution_count": 15,
   "source": [
    "# MTSamples veri setini yükle\n",
    "mtsample_df = pd.read_csv('mtsamples.csv')\n",
    "\n",
    "# Boş olmayan transkripsiyonları seç\n",
    "mtsample_df.dropna(subset=['transcription'], inplace=True)\n",
    "\n",
    "# NER modelini yükle\n",
    "nlp = ner_model.load()\n",
    "\n",
    "# Örnek transkripsiyonları al\n",
    "sample_transcriptions = mtsample_df['transcription'].sample(n=5, random_state=42)\n",
    "\n",
    "# NER işlemi\n",
    "for transcription in sample_transcriptions:\n",
    "    doc = nlp(transcription)\n",
    "    \n",
    "    print(\"\\nTranscription Text:\")\n",
    "    print(transcription)\n",
    "    \n",
    "    print(\"\\nNamed Entities:\")\n",
    "    print(\"TEXT\\t\\tSTART\\tEND\\tENTITY TYPE\")\n",
    "    for ent in doc.ents:\n",
    "        print(f\"{ent.text}\\t\\t{ent.start_char}\\t{ent.end_char}\\t{ent.label_}\")"
   ],
   "outputs": [
    {
     "output_type": "stream",
     "name": "stderr",
     "text": [
      "c:\\Users\\cihat\\Downloads\\Extracting Medical Information From Clinical Text With NLP\\venv\\Lib\\site-packages\\spacy\\language.py:2141: FutureWarning: Possible set union at position 6328\n",
      "  deserializers[\"tokenizer\"] = lambda p: self.tokenizer.from_disk(  # type: ignore[union-attr]\n"
     ]
    },
    {
     "output_type": "stream",
     "name": "stdout",
     "text": [
      "\n",
      "Transcription Text:\n",
      "HISTORY OF PRESENT ILLNESS:,  The patient is well known to me for a history of iron-deficiency anemia due to chronic blood loss from colitis.  We corrected her hematocrit last year with intravenous (IV) iron.  Ultimately, she had a total proctocolectomy done on 03/14/2007 to treat her colitis.  Her course has been very complicated since then with needing multiple surgeries for removal of hematoma.  This is partly because she was on anticoagulation for a right arm deep venous thrombosis (DVT) she had early this year, complicated by septic phlebitis.,Chart was reviewed, and I will not reiterate her complex history.,I am asked to see the patient again because of concerns for coagulopathy.,She had surgery again last month to evacuate a pelvic hematoma, and was found to have vancomycin resistant enterococcus, for which she is on multiple antibiotics and followed by infectious disease now.,She is on total parenteral nutrition (TPN) as well.,LABORATORY DATA:,  Labs today showed a white blood count of 7.9, hemoglobin 11.0, hematocrit 32.8, and platelets 1,121,000.  MCV is 89.  Her platelets have been elevated for at least the past week, with counts initially at the 600,000 to 700,000 range and in the last couple of day rising above 1,000,000.  Her hematocrit has been essentially stable for the past month or so.  White blood count has improved.,PT has been markedly elevated and today is 44.9 with an INR of 5.0.  This is despite stopping Coumadin on 05/31/2007, and with administration of vitamin K via the TPN, as well as additional doses IV.  The PT is slightly improved over the last few days, being high at 65.0 with an INR of 7.3 yesterday.,PTT has not been checked since 05/18/2007 and was normal then at 28.,LFTs have been elevated.  ALT is 100, AST 57, GGT 226, alkaline phosphatase 505, albumin low at 3.3, uric acid high at 4.9, bilirubin normal, LDH normal, and pre-albumin low at 16.  Creatinine is at 1.5, with an estimated creatinine clearance low at 41.7.  Other electrolytes are fairly normal.,B12 was assessed on 05/19/2007 and was normal at 941.  Folic acid was normal.  Iron saturation has not been checked since March, and was normal then.  Ferritin has not been checked in a couple of months.,CURRENT MEDICATIONS: , Erythropoietin 45,000 units every week, started 05/16/2007.  She is on heparin flushes, loperamide, niacin, pantoprazole, Diovan, Afrin nasal spray, caspofungin, daptomycin, Ertapenem, fentanyl or morphine p.r.n. pain, and Compazine or Zofran p.r.n. nausea.,PHYSICAL EXAMINATION: ,GENERAL:  She is alert, and frustrated with her prolonged hospital stay.  She notes that she had epistaxis a few days ago, requiring nasal packing and fortunately that had resolved now.,VITAL SIGNS:  Today, temperature is 98.5, pulse 99, respirations 16, blood pressure 105/65, and pulse is 95.  She is not requiring oxygen.,SKIN:  No significant ecchymoses are noted.,ABDOMEN:  Ileostomy is in place, with greenish black liquid output.  Midline surgical scar has healed well, with a dressing in place in the middle, with no bleeding noted.,EXTREMITIES:  She has no peripheral edema.,CARDIAC:  Regular rate.,LYMPHATICS:  No adenopathy is noted.,LUNGS:  Clear bilaterally.,IMPRESSION AND PLAN:,  Markedly elevated PT/INR despite stopping Coumadin and administering vitamin K.  I will check mixing studies to see if she has deficiency, which could be due to poor production given her elevated LFTs, decreased albumin, and decreased pre-albumin.,It is possible that she has an inhibitor, which would have to be an acquired inhibitor, generally presenting with an elevated PTT and not PT.  I will check a PTT and check mixing studies if that is prolonged.  It is doubtful that she has a lupus anticoagulant since she has been presenting with bleeding symptoms rather than clotting.  I agree with continuing off of anticoagulation for now.,She has markedly elevated platelet count.  I suspect this is likely reactive to infection, and not from a new myeloproliferative disorder.,Anemia has been stable, and is multifactorial.  Given her decreased creatinine clearance, I agree with erythropoietin support.  She was iron deficient last year, and with her multiple surgeries and poor p.o. intake, may have become iron deficient again.  She has had part of her small bowel removed, so there may be a component of poor absorption as well.  If she is iron deficient, this may contribute also to her elevated platelet counts.  I will check a ferritin.  This may be difficult to interpret because of inflammation.  If it is decreased, plan will be to add iron supplementation intravenously.  If it is elevated, we could consider a bone marrow biopsy to evaluate her iron stores, and also assess her myelopoiesis given the markedly elevated platelet counts.,She needs continued treatment as you are for her infections.,I will discuss the case with Dr. X as well since there is a question as to whether she might need additional surgery.  She is not a surgical candidate now with her elevated PT/INR.\n",
      "\n",
      "Named Entities:\n",
      "TEXT\t\tSTART\tEND\tENTITY TYPE\n",
      "iron-deficiency anemia\t\t79\t101\tDISEASE\n",
      "chronic blood loss\t\t109\t127\tDISEASE\n",
      "colitis\t\t133\t140\tDISEASE\n",
      "iron\t\t203\t207\tCHEMICAL\n",
      "colitis\t\t286\t293\tDISEASE\n",
      "hematoma\t\t391\t399\tDISEASE\n",
      "thrombosis\t\t480\t490\tDISEASE\n",
      "DVT\t\t492\t495\tDISEASE\n",
      "pelvic hematoma\t\t742\t757\tDISEASE\n",
      "vancomycin\t\t781\t791\tCHEMICAL\n",
      "infectious disease\t\t873\t891\tDISEASE\n",
      "vitamin K\t\t1503\t1512\tCHEMICAL\n",
      "uric acid\t\t1830\t1839\tCHEMICAL\n",
      "bilirubin\t\t1853\t1862\tCHEMICAL\n",
      "Creatinine\t\t1911\t1921\tCHEMICAL\n",
      "creatinine\t\t1951\t1961\tCHEMICAL\n",
      "electrolytes\t\t1992\t2004\tCHEMICAL\n",
      "Folic acid\t\t2079\t2089\tCHEMICAL\n",
      "heparin\t\t2322\t2329\tCHEMICAL\n",
      "loperamide\t\t2339\t2349\tCHEMICAL\n",
      "niacin\t\t2351\t2357\tCHEMICAL\n",
      "pantoprazole\t\t2359\t2371\tCHEMICAL\n",
      "Diovan\t\t2373\t2379\tCHEMICAL\n",
      "caspofungin\t\t2400\t2411\tCHEMICAL\n",
      "daptomycin\t\t2413\t2423\tCHEMICAL\n",
      "Ertapenem\t\t2425\t2434\tCHEMICAL\n",
      "fentanyl\t\t2436\t2444\tCHEMICAL\n",
      "morphine\t\t2448\t2456\tCHEMICAL\n",
      "pain\t\t2464\t2468\tDISEASE\n",
      "Compazine\t\t2474\t2483\tCHEMICAL\n",
      "Zofran\t\t2487\t2493\tCHEMICAL\n",
      "epistaxis\t\t2629\t2638\tDISEASE\n",
      "bleeding\t\t3057\t3065\tDISEASE\n",
      "adenopathy\t\t3156\t3166\tDISEASE\n",
      "vitamin K.\t\t3296\t3306\tCHEMICAL\n",
      "lupus\t\t3715\t3720\tDISEASE\n",
      "infection\t\t3947\t3956\tDISEASE\n",
      "myeloproliferative disorder.,Anemia\t\t3977\t4012\tDISEASE\n",
      "creatinine\t\t4074\t4084\tCHEMICAL\n",
      "iron\t\t4142\t4146\tCHEMICAL\n",
      "p.o\t\t4209\t4212\tCHEMICAL\n",
      "iron\t\t4238\t4242\tCHEMICAL\n",
      "iron\t\t4373\t4377\tCHEMICAL\n",
      "inflammation\t\t4520\t4532\tDISEASE\n",
      "iron\t\t4575\t4579\tCHEMICAL\n",
      "iron\t\t4686\t4690\tCHEMICAL\n",
      "\n",
      "Transcription Text:\n",
      "PREPROCEDURE DIAGNOSIS:,  Chest pain secondary to fractured ribs, unmanageable with narcotics.,POSTPROCEDURE DIAGNOSIS:,  Chest pain secondary to fractured ribs, unmanageable with narcotics.,PROCEDURE: , Intercostal block from fourth to tenth intercostal spaces, left.,INDICATIONS: , I was requested by Dr. X to do an intercostal block on this lady who fell and has fractured ribs, whose chest pain is paralyzing and not responding well to increasing doses of narcotics.,PROCEDURE DETAIL:,  After obtaining an informed consent with the patient on her bedside, she was placed in the right decubitus position with the left side up.  The posterior left chest wall was prepped and draped in the usual fashion and then a mixture of 1% Xylocaine 20 mL and Marcaine 0.25% 20 mL were mixed together and the intercostal spaces from the fourth to the tenth ribs were anesthetized.  A total of 30 mL worth of solution was used.  I also injected some local anesthetic subcutaneously into an area of contusion in the left lumbar area.,The patient tolerated the procedure well.  She had no respiratory distress.  Immediately, the patient felt some relief from the pain.  Chest x-ray was ordered for the following day.\n",
      "\n",
      "Named Entities:\n",
      "TEXT\t\tSTART\tEND\tENTITY TYPE\n",
      "Chest pain\t\t26\t36\tDISEASE\n",
      "Chest pain\t\t122\t132\tDISEASE\n",
      "intercostal block\t\t318\t335\tDISEASE\n",
      "chest pain\t\t388\t398\tDISEASE\n",
      "Xylocaine\t\t730\t739\tCHEMICAL\n",
      "Marcaine\t\t750\t758\tCHEMICAL\n",
      "contusion\t\t987\t996\tDISEASE\n",
      "pain\t\t1150\t1154\tDISEASE\n",
      "\n",
      "Transcription Text:\n",
      "HISTORY OF PRESENT ILLNESS: , The patient is a 65-year-old female who underwent left upper lobectomy for stage IA non-small cell lung cancer.  She returns for a routine surveillance visit.,She has undergone since her last visit an abdominopelvic CT, which shows an enlarging simple cyst of the left kidney.  She underwent barium swallow, which demonstrates a small sliding hiatal hernia with minimal reflux.  She has a minimal delayed emptying secondary tertiary contractions.  PA and lateral chest x-ray from the 11/23/09 was also reviewed, which demonstrates no lesions or infiltrates.  Review of systems, the patient continues to have periodic odynophagia and mid thoracic dysphagia.  This most likely is secondary to tertiary contractions with some delayed emptying.  She has also had increased size of the left calf without tenderness, which has not resolved over the past several months.  She has had a previous DVT in 1975 and 1985.  She denies weight loss, anorexia, fevers, chills, headaches, new aches or pains, cough, hemoptysis, shortness of breath at rest, or dyspnea on exertion.,MEDICATIONS: , Aspirin 81 mg p.o. q.d., Spiriva 10 mcg q.d., and albuterol p.r.n.,PHYSICAL EXAMINATION: , BP:  117/78.  RR:  18.  P:  93.,WT:  186 lbs.  RAS:  100%.,HEENT:  Mucous membranes are moist.  No cervical or supraclavicular lymphadenopathy.,LUNGS:  Clear to auscultation bilaterally.,CARDIAC:  Regular rate and rhythm without murmurs.,EXTREMITIES:  No cyanosis, clubbing or edema.,NEURO:  Alert and oriented x3.  Cranial nerves II through XII intact.,ASSESSMENT: , The patient has no evidence of disease now status post left upper lobectomy for stage IA non-small cell lung cancer 13 months ago.,PLAN:  ,She is to return to clinic in six months with a chest CT.  She was given a prescription for an ultrasound of the left lower extremity to rule out DVT.  She will be called with the results.  She was given a prescription for nifedipine 10 mg p.o. t.i.d. p.r.n. esophageal spasm.\n",
      "\n",
      "Named Entities:\n",
      "TEXT\t\tSTART\tEND\tENTITY TYPE\n",
      "non-small cell lung cancer\t\t114\t140\tDISEASE\n",
      "barium\t\t322\t328\tCHEMICAL\n",
      "hernia\t\t380\t386\tDISEASE\n",
      "odynophagia\t\t647\t658\tDISEASE\n",
      "thoracic dysphagia\t\t667\t685\tDISEASE\n",
      "tenderness\t\t829\t839\tDISEASE\n",
      "DVT\t\t918\t921\tDISEASE\n",
      "weight loss\t\t952\t963\tDISEASE\n",
      "anorexia\t\t965\t973\tDISEASE\n",
      "fevers\t\t975\t981\tDISEASE\n",
      "chills\t\t983\t989\tDISEASE\n",
      "headaches\t\t991\t1000\tDISEASE\n",
      "aches\t\t1006\t1011\tDISEASE\n",
      "pains\t\t1015\t1020\tDISEASE\n",
      "cough\t\t1022\t1027\tDISEASE\n",
      "hemoptysis\t\t1029\t1039\tDISEASE\n",
      "shortness of breath\t\t1041\t1060\tDISEASE\n",
      "dyspnea\t\t1073\t1080\tDISEASE\n",
      "Aspirin\t\t1109\t1116\tCHEMICAL\n",
      "p.o\t\t1123\t1126\tCHEMICAL\n",
      "q.d\t\t1128\t1131\tCHEMICAL\n",
      "Spiriva\t\t1134\t1141\tCHEMICAL\n",
      "q.d\t\t1149\t1152\tCHEMICAL\n",
      "albuterol\t\t1159\t1168\tCHEMICAL\n",
      "cyanosis\t\t1455\t1463\tDISEASE\n",
      "clubbing\t\t1465\t1473\tDISEASE\n",
      "Cranial nerves II\t\t1516\t1533\tDISEASE\n",
      "non-small cell lung cancer\t\t1657\t1683\tDISEASE\n",
      "DVT\t\t1853\t1856\tDISEASE\n",
      "nifedipine\t\t1930\t1940\tCHEMICAL\n",
      "p.o\t\t1947\t1950\tCHEMICAL\n",
      "t.i.d\t\t1952\t1957\tCHEMICAL\n",
      "esophageal spasm\t\t1966\t1982\tDISEASE\n",
      "\n",
      "Transcription Text:\n",
      "PREOPERATIVE DIAGNOSIS: , End-stage renal disease with failing AV dialysis fistula.,POSTOPERATIVE DIAGNOSIS: , End-stage renal disease with failing AV dialysis fistula.,PROCEDURE: , Construction of right upper arm hemodialysis fistula with transposition of deep brachial vein.,ANESTHESIA: , Endotracheal.,DESCRIPTION OF OPERATIVE PROCEDURE: , General endotracheal anesthesia was initiated without difficulty.  The right arm, axilla, and chest wall were prepped and draped in sterile fashion.  Longitudinal skin incision was made from the lower axilla distally down the medial aspect of the arm and the basilic vein was not apparent.  The draining veins are the deep brachial veins.  The primary vein was carefully dissected out and small tributaries clamped, divided, and ligated with #3-0 Vicryl suture.  A nice length of vein was obtained to the distal one third of the arm.  This appeared to be of adequate length to transpose the vein through the subcutaneous tissue to an old occluded fistula vein, which remains patent through a small collateral vein.  A transverse skin incision was made over the superior aspect of the old fistula vein.  This vein was carefully dissected out and encircled with vascular tapes.  The brachial vein was then tunneled in a gentle curve above the bicep to the level of the cephalic vein fistula.  The patient was sensible, was then systemically heparinized.  The existing fistula vein was clamped proximally and distally, incised longitudinally for about a centimeter.  The brachial vein end was spatulated.  Subsequently, a branchial vein to arterialized fistula vein anastomosis was then constructed using running #6-0 Prolene suture in routine fashion.  After the completion of the anastomosis, the fistula vein was forebled and the branchial vein backbled.  The anastomosis was completed.  A nice thrill could be palpated over the outflow brachial vein.  Hemostasis was noted.  A 8 mm Blake drain was placed in the wound and brought out through inferior skin stab incision and ___ the skin with #3-0 nylon suture.  The wounds were then closed using interrupted #4-0 Vicryl and deep subcutaneous tissue ___ staples closed the skin.  Sterile dressings were applied.  The patient was then x-ray'd and taken to Recovery in satisfactory condition.  Estimated blood loss 50 mL, drains 8 mm Blake.  Operative complication none apparent, final sponge, needle, and instrument counts reported as correct.\n",
      "\n",
      "Named Entities:\n",
      "TEXT\t\tSTART\tEND\tENTITY TYPE\n",
      "End-stage renal disease\t\t26\t49\tDISEASE\n",
      "End-stage renal disease\t\t111\t134\tDISEASE\n",
      "fistula\t\t227\t234\tDISEASE\n",
      "fistula\t\t990\t997\tDISEASE\n",
      "fistula\t\t1131\t1138\tDISEASE\n",
      "fistula\t\t1409\t1416\tDISEASE\n",
      "fistula\t\t1739\t1746\tDISEASE\n",
      "blood loss\t\t2295\t2305\tDISEASE\n",
      "\n",
      "Transcription Text:\n",
      "PREOPERATIVE DIAGNOSIS: , Persistent pneumonia, right upper lobe of the lung, possible mass.,POSTOPERATIVE DIAGNOSIS: , Persistent pneumonia, right upper lobe of the lung, possible mass.,PROCEDURE:,  Bronchoscopy with brush biopsies.,DESCRIPTION OF PROCEDURE: , After obtaining an informed consent, the patient was taken to the operating room where he underwent a general endotracheal anesthesia.  A time-out process had been followed and then the flexible bronchoscope was inserted through the endotracheal tube after 2 cc of 4% lidocaine had been infused into the endotracheal tube.  First the trachea and the carina had normal appearance.  The scope was passed into the left side and the bronchial system was found to be normal.  There were scars and mucoid secretions.  Then the scope was passed into the right side where brown secretions were obtained and collected in a trap to be sent for culture and sensitivity of aerobic and anaerobic fungi and TB.  First, the basal lobes were explored and found to be normal.  Then, the right upper lobe was selectively cannulated and no abnormalities were found except some secretions were aspirated.  Then, the bronchi going to the three segments were visualized and no abnormalities or mass were found.  Brush biopsy was obtained from one of the segments and sent to Pathology.,The procedure had to be interrupted several times because of the patient's desaturation, but after a few minutes of Ambu bagging, he recovered satisfactorily.,At the end, the patient tolerated the procedure well and was sent to the recovery room in satisfactory condition.,\n",
      "\n",
      "Named Entities:\n",
      "TEXT\t\tSTART\tEND\tENTITY TYPE\n",
      "pneumonia\t\t37\t46\tDISEASE\n",
      "pneumonia\t\t131\t140\tDISEASE\n",
      "lidocaine\t\t530\t539\tCHEMICAL\n",
      "TB\t\t955\t957\tCHEMICAL\n"
     ]
    }
   ],
   "metadata": {}
  },
  {
   "cell_type": "code",
   "execution_count": 29,
   "source": [
    "# Derin Öğrenme Modeli\n",
    "label_encoder = LabelEncoder()\n",
    "encoded_labels = label_encoder.fit_transform(y_train)\n",
    "\n",
    "model = Sequential()\n",
    "model.add(Embedding(input_dim=len(vectorizer_tfidf.get_feature_names_out()), output_dim=32, input_length=X_train_tfidf.shape[1]))\n",
    "model.add(Conv1D(128, 5, activation='relu'))\n",
    "model.add(LSTM(64, return_sequences=False))  # Changed here\n",
    "model.add(Dense(len(label_encoder.classes_), activation='softmax'))\n",
    "\n",
    "model.compile(loss='sparse_categorical_crossentropy', optimizer='adam', metrics=['accuracy'])\n",
    "model.fit(X_train_tfidf, encoded_labels, epochs=10, batch_size=32, validation_split=0.2)\n",
    "y_pred_dnn_tfidf = model.predict_classes(X_test_tfidf)"
   ],
   "outputs": [
    {
     "output_type": "stream",
     "name": "stdout",
     "text": [
      "Epoch 1/10\n",
      "92/92 [==============================] - 630s 7s/step - loss: 2.7377 - accuracy: 0.2299 - val_loss: 2.6646 - val_accuracy: 0.2554\n",
      "Epoch 2/10\n",
      "92/92 [==============================] - 633s 7s/step - loss: 2.6874 - accuracy: 0.2319 - val_loss: 2.6633 - val_accuracy: 0.2554\n",
      "Epoch 3/10\n",
      "92/92 [==============================] - 630s 7s/step - loss: 2.6805 - accuracy: 0.2319 - val_loss: 2.6688 - val_accuracy: 0.2554\n",
      "Epoch 4/10\n",
      "92/92 [==============================] - 623s 7s/step - loss: 2.6812 - accuracy: 0.2319 - val_loss: 2.6683 - val_accuracy: 0.2554\n",
      "Epoch 5/10\n",
      "92/92 [==============================] - 619s 7s/step - loss: 2.6792 - accuracy: 0.2319 - val_loss: 2.6583 - val_accuracy: 0.2554\n",
      "Epoch 6/10\n",
      "92/92 [==============================] - 624s 7s/step - loss: 2.6792 - accuracy: 0.2319 - val_loss: 2.6593 - val_accuracy: 0.2554\n",
      "Epoch 7/10\n",
      "92/92 [==============================] - 626s 7s/step - loss: 2.6805 - accuracy: 0.2319 - val_loss: 2.6581 - val_accuracy: 0.2554\n",
      "Epoch 8/10\n",
      "92/92 [==============================] - 608s 7s/step - loss: 2.6794 - accuracy: 0.2319 - val_loss: 2.6578 - val_accuracy: 0.2554\n",
      "Epoch 9/10\n",
      "92/92 [==============================] - 624s 7s/step - loss: 2.6804 - accuracy: 0.2319 - val_loss: 2.6621 - val_accuracy: 0.2554\n",
      "Epoch 10/10\n",
      "92/92 [==============================] - 624s 7s/step - loss: 2.6782 - accuracy: 0.2319 - val_loss: 2.6562 - val_accuracy: 0.2554\n"
     ]
    },
    {
     "output_type": "error",
     "ename": "AttributeError",
     "evalue": "'Sequential' object has no attribute 'predict_classes'",
     "traceback": [
      "\u001b[1;31m---------------------------------------------------------------------------\u001b[0m",
      "\u001b[1;31mAttributeError\u001b[0m                            Traceback (most recent call last)",
      "Cell \u001b[1;32mIn[29], line 14\u001b[0m\n\u001b[0;32m     12\u001b[0m model\u001b[39m.\u001b[39mcompile(loss\u001b[39m=\u001b[39m\u001b[39m'\u001b[39m\u001b[39msparse_categorical_crossentropy\u001b[39m\u001b[39m'\u001b[39m, optimizer\u001b[39m=\u001b[39m\u001b[39m'\u001b[39m\u001b[39madam\u001b[39m\u001b[39m'\u001b[39m, metrics\u001b[39m=\u001b[39m[\u001b[39m'\u001b[39m\u001b[39maccuracy\u001b[39m\u001b[39m'\u001b[39m])\n\u001b[0;32m     13\u001b[0m model\u001b[39m.\u001b[39mfit(X_train_tfidf, encoded_labels, epochs\u001b[39m=\u001b[39m\u001b[39m10\u001b[39m, batch_size\u001b[39m=\u001b[39m\u001b[39m32\u001b[39m, validation_split\u001b[39m=\u001b[39m\u001b[39m0.2\u001b[39m)\n\u001b[1;32m---> 14\u001b[0m y_pred_dnn_tfidf \u001b[39m=\u001b[39m model\u001b[39m.\u001b[39;49mpredict_classes(X_test_tfidf)\n",
      "\u001b[1;31mAttributeError\u001b[0m: 'Sequential' object has no attribute 'predict_classes'"
     ]
    }
   ],
   "metadata": {}
  },
  {
   "cell_type": "code",
   "execution_count": 31,
   "source": [
    "model.save('my_model.h5')"
   ],
   "outputs": [
    {
     "output_type": "stream",
     "name": "stderr",
     "text": [
      "c:\\Users\\cihat\\Downloads\\Extracting Medical Information From Clinical Text With NLP\\venv\\Lib\\site-packages\\keras\\src\\engine\\training.py:3103: UserWarning: You are saving your model as an HDF5 file via `model.save()`. This file format is considered legacy. We recommend using instead the native Keras format, e.g. `model.save('my_model.keras')`.\n",
      "  saving_api.save_model(\n"
     ]
    }
   ],
   "metadata": {}
  },
  {
   "cell_type": "code",
   "execution_count": 32,
   "source": [
    "# Performans Metrikleri\n",
    "def evaluate_model(y_true, y_pred, classes):\n",
    "    cm = confusion_matrix(y_true, y_pred, labels=classes)\n",
    "    accuracy = accuracy_score(y_true, y_pred)\n",
    "    classification_rep = classification_report(y_true, y_pred, labels=classes)\n",
    "    \n",
    "    print(\"Confusion Matrix:\")\n",
    "    print(cm)\n",
    "    print(\"\\nAccuracy:\", accuracy)\n",
    "    print(\"\\nClassification Report:\")\n",
    "    print(classification_rep)"
   ],
   "outputs": [],
   "metadata": {}
  },
  {
   "cell_type": "code",
   "execution_count": 33,
   "source": [
    "print(evaluate_model)"
   ],
   "outputs": [
    {
     "output_type": "stream",
     "name": "stdout",
     "text": [
      "<function evaluate_model at 0x000001D35129BA60>\n"
     ]
    }
   ],
   "metadata": {}
  }
 ],
 "nbformat": 4,
 "nbformat_minor": 2,
 "metadata": {
  "language_info": {
   "codemirror_mode": {
    "name": "ipython",
    "version": 3
   },
   "file_extension": ".py",
   "mimetype": "text/x-python",
   "name": "python",
   "nbconvert_exporter": "python",
   "pygments_lexer": "ipython3",
   "version": 3
  }
 }
}